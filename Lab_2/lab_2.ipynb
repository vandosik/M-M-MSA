{
 "cells": [
  {
   "cell_type": "markdown",
   "metadata": {},
   "source": [
    "#  This is Lab 2 executable file\n",
    "This file contains the program code that is the solution to the tasks from the file [lab_2_task.txt](https://github.com/vandosik/M-M-MSA/blob/master/Lab_2/lab_2_task.txt).\n",
    "## Authors\n",
    "* Ivan Dubinin: [vandosik](https://github.com/vandosik)\n",
    "* Alexey Grandilevskii: [zer0deck](https://github.com/zer0deck)\n",
    "* Mikhail Sorokin: [Mikha1lSorokin](https://github.com/Mikha1lSorokin)"
   ]
  },
  {
   "cell_type": "code",
   "execution_count": null,
   "metadata": {},
   "outputs": [],
   "source": [
    "# libs initialization\n",
    "import matplotlib.pyplot as plt\n",
    "import numpy as np\n",
    "import pandas as pd\n",
    "import scipy.stats\n",
    "from scipy.optimize import curve_fit \n",
    "import seaborn as sns"
   ]
  },
  {
   "cell_type": "code",
   "execution_count": null,
   "metadata": {},
   "outputs": [],
   "source": [
    "# Dataset initialization\n",
    "path_to_file = '../Datasets/GameStats.csv'\n",
    "source_df = pd.read_csv(path_to_file, engine='python')\n",
    "source_df.head(5)"
   ]
  }
 ],
 "metadata": {
  "language_info": {
   "name": "python"
  },
  "orig_nbformat": 4
 },
 "nbformat": 4,
 "nbformat_minor": 2
}
