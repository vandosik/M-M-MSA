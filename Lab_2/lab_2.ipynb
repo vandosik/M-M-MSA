{
 "cells": [
  {
   "cell_type": "markdown",
   "metadata": {},
   "source": [
    "#  This is Lab 2 executable file\n",
    "This file contains the program code that is the solution to the tasks from the file [lab_2_task.txt](https://github.com/vandosik/M-M-MSA/blob/master/Lab_2/lab_2_task.txt).\n",
    "## Authors\n",
    "* Ivan Dubinin: [vandosik](https://github.com/vandosik)\n",
    "* Alexey Grandilevskii: [zer0deck](https://github.com/zer0deck)\n",
    "* Mikhail Sorokin: [Mikha1lSorokin](https://github.com/Mikha1lSorokin)"
   ]
  },
  {
   "cell_type": "code",
   "execution_count": 1,
   "metadata": {},
   "outputs": [],
   "source": [
    "# libs initialization\n",
    "import matplotlib.pyplot as plt\n",
    "import numpy as np\n",
    "import pandas as pd\n",
    "import scipy.stats\n",
    "from scipy.optimize import curve_fit \n",
    "import seaborn as sns"
   ]
  },
  {
   "cell_type": "code",
   "execution_count": 2,
   "metadata": {},
   "outputs": [
    {
     "data": {
      "text/html": [
       "<div>\n",
       "<style scoped>\n",
       "    .dataframe tbody tr th:only-of-type {\n",
       "        vertical-align: middle;\n",
       "    }\n",
       "\n",
       "    .dataframe tbody tr th {\n",
       "        vertical-align: top;\n",
       "    }\n",
       "\n",
       "    .dataframe thead th {\n",
       "        text-align: right;\n",
       "    }\n",
       "</style>\n",
       "<table border=\"1\" class=\"dataframe\">\n",
       "  <thead>\n",
       "    <tr style=\"text-align: right;\">\n",
       "      <th></th>\n",
       "      <th>Date</th>\n",
       "      <th>Level</th>\n",
       "      <th>NumBlocks</th>\n",
       "      <th>IsWin</th>\n",
       "      <th>ElapsedTime</th>\n",
       "      <th>Score</th>\n",
       "      <th>Accuracy</th>\n",
       "    </tr>\n",
       "  </thead>\n",
       "  <tbody>\n",
       "    <tr>\n",
       "      <th>0</th>\n",
       "      <td>9/7/2019 2:43:29 PM</td>\n",
       "      <td>520</td>\n",
       "      <td>30</td>\n",
       "      <td>False</td>\n",
       "      <td>1.579998</td>\n",
       "      <td>150</td>\n",
       "      <td>0.0</td>\n",
       "    </tr>\n",
       "    <tr>\n",
       "      <th>1</th>\n",
       "      <td>9/7/2019 2:44:46 PM</td>\n",
       "      <td>520</td>\n",
       "      <td>30</td>\n",
       "      <td>False</td>\n",
       "      <td>3.805001</td>\n",
       "      <td>100</td>\n",
       "      <td>0.0</td>\n",
       "    </tr>\n",
       "    <tr>\n",
       "      <th>2</th>\n",
       "      <td>9/7/2019 2:59:20 PM</td>\n",
       "      <td>520</td>\n",
       "      <td>30</td>\n",
       "      <td>False</td>\n",
       "      <td>1.783006</td>\n",
       "      <td>50</td>\n",
       "      <td>0.0</td>\n",
       "    </tr>\n",
       "    <tr>\n",
       "      <th>3</th>\n",
       "      <td>9/7/2019 2:59:28 PM</td>\n",
       "      <td>520</td>\n",
       "      <td>30</td>\n",
       "      <td>True</td>\n",
       "      <td>0.263020</td>\n",
       "      <td>0</td>\n",
       "      <td>0.0</td>\n",
       "    </tr>\n",
       "    <tr>\n",
       "      <th>4</th>\n",
       "      <td>9/7/2019 2:59:48 PM</td>\n",
       "      <td>520</td>\n",
       "      <td>30</td>\n",
       "      <td>True</td>\n",
       "      <td>3.318019</td>\n",
       "      <td>50</td>\n",
       "      <td>0.0</td>\n",
       "    </tr>\n",
       "  </tbody>\n",
       "</table>\n",
       "</div>"
      ],
      "text/plain": [
       "                  Date  Level  NumBlocks  IsWin  ElapsedTime  Score  Accuracy\n",
       "0  9/7/2019 2:43:29 PM    520         30  False     1.579998    150       0.0\n",
       "1  9/7/2019 2:44:46 PM    520         30  False     3.805001    100       0.0\n",
       "2  9/7/2019 2:59:20 PM    520         30  False     1.783006     50       0.0\n",
       "3  9/7/2019 2:59:28 PM    520         30   True     0.263020      0       0.0\n",
       "4  9/7/2019 2:59:48 PM    520         30   True     3.318019     50       0.0"
      ]
     },
     "execution_count": 2,
     "metadata": {},
     "output_type": "execute_result"
    }
   ],
   "source": [
    "# Dataset initialization\n",
    "path_to_file = '../Datasets/GameStats.csv'\n",
    "source_df = pd.read_csv(path_to_file, engine='python')\n",
    "source_df.head(5)"
   ]
  },
  {
   "cell_type": "markdown",
   "metadata": {},
   "source": [
    "Date:        date and time the game was auto-played\n",
    "\n",
    "Level:       the 3-digit number is an estimate of the difficulty from a previous run\n",
    "\n",
    "NumBlocks:   how many blocks have to be broken to win the level\n",
    "\n",
    "IsWin:       True if autoplay broke all the blocks, False if the ball fell past the paddle\n",
    "\n",
    "ElapsedTime: Seconds until either won or lost (game is played at 4x speed, so multiply by 4 to get an estimate of how long a human might play it)\n",
    "\n",
    "Score:       total score when the game was won or lost\n",
    "\n",
    "Accuracy:    the autoplay is tuned with a randomly-chosen accuracy. Higher numbers are more likely to win;"
   ]
  },
  {
   "cell_type": "code",
   "execution_count": 3,
   "metadata": {},
   "outputs": [],
   "source": [
    "# Select column\n",
    "\n",
    "# col_names = ['Date',\t'Level',\t'NumBlocks',\t'IsWin',\t'ElapsedTime',\t'Score',\t'Accuracy']\n",
    "col_names = list(source_df.columns)\n",
    "\n",
    "col_name = col_names[4]"
   ]
  },
  {
   "cell_type": "code",
   "execution_count": 4,
   "metadata": {},
   "outputs": [],
   "source": [
    "# Remove outliers\n",
    "if True: # one way\n",
    "    q_low = source_df[col_name].quantile(0.005)\n",
    "    q_hi  = source_df[col_name].quantile(0.995)\n",
    "\n",
    "    source_df = source_df[(source_df[col_name] < q_hi) & (source_df[col_name] > q_low)]\n",
    "else: # other way\n",
    "    source_df[(np.abs(scipy.stats.zscore(source_df)) < 3).all(axis=1)]"
   ]
  },
  {
   "cell_type": "markdown",
   "metadata": {},
   "source": [
    ">The code above is identical for all labs and is used to initialize the dataset."
   ]
  },
  {
   "cell_type": "markdown",
   "metadata": {},
   "source": [
    "## Exercise №1"
   ]
  },
  {
   "cell_type": "code",
   "execution_count": 5,
   "metadata": {},
   "outputs": [
    {
     "name": "stderr",
     "output_type": "stream",
     "text": [
      "No handles with labels found to put in legend.\n"
     ]
    },
    {
     "data": {
      "image/png": "[encoded data removed]",
      "text/plain": [
       "<Figure size 936x576 with 1 Axes>"
      ]
     },
     "metadata": {
      "needs_background": "light"
     },
     "output_type": "display_data"
    }
   ],
   "source": [
    "#Plotting a histogram and kernel density estimate\n",
    "plt.figure(figsize=(13, 8))\n",
    "\n",
    "kernel = scipy.stats.gaussian_kde(source_df[col_name])\n",
    "\n",
    "min_amount, max_amount = source_df[col_name].min(), source_df[col_name].max()\n",
    "x = np.linspace(min_amount, max_amount, len(source_df)) # by defaul 50 items\n",
    "kde_values = kernel(x)\n",
    "\n",
    "# sns.histplot(source_df[col_name], kde=False, stat=\"density\", label=f'Average transaction size in rubles')\n",
    "# Draw unnormed histogramm\n",
    "hist_data = plt.hist(source_df[col_name], density=True, bins=50)\n",
    "\n",
    "# print(hist_vals)\n",
    "plt.plot(x, kde_values, color=\"r\")\n",
    "\n",
    "plt.ylabel('p')\n",
    "plt.xlabel('Average transaction size')\n",
    "\n",
    "plt.legend()\n",
    "plt.show()"
   ]
  },
  {
   "cell_type": "markdown",
   "metadata": {},
   "source": [
    "## Exercise №2"
   ]
  },
  {
   "cell_type": "code",
   "execution_count": null,
   "metadata": {},
   "outputs": [],
   "source": [
    "# Calculating multivariate mathematical expectation and variance\n",
    "var = source_df[col_name].var()"
   ]
  }
 ],
 "metadata": {
  "interpreter": {
   "hash": "42945817134121878c7cd0aa3e8441d4811e76c78f56d3a59be176ac2ac0f259"
  },
  "kernelspec": {
   "display_name": "Python 3.9.7 64-bit ('base': conda)",
   "language": "python",
   "name": "python3"
  },
  "language_info": {
   "codemirror_mode": {
    "name": "ipython",
    "version": 3
   },
   "file_extension": ".py",
   "mimetype": "text/x-python",
   "name": "python",
   "nbconvert_exporter": "python",
   "pygments_lexer": "ipython3",
   "version": "3.9.7"
  },
  "orig_nbformat": 4
 },
 "nbformat": 4,
 "nbformat_minor": 2
}
